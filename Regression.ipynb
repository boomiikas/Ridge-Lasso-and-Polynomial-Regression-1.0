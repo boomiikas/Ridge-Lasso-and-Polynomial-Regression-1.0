{
 "cells": [
  {
   "cell_type": "code",
   "execution_count": 1,
   "id": "a3969123",
   "metadata": {},
   "outputs": [],
   "source": [
    "import pandas as pd\n",
    "import numpy as np\n",
    "from sklearn.linear_model import LinearRegression\n",
    "from sklearn.linear_model import RidgeCV\n",
    "from sklearn.linear_model import LassoCV\n",
    "from sklearn.preprocessing import PolynomialFeatures\n",
    "from sklearn.metrics import r2_score,root_mean_squared_error\n",
    "from sklearn.model_selection import train_test_split"
   ]
  },
  {
   "cell_type": "markdown",
   "id": "a09be457",
   "metadata": {},
   "source": [
    "Ridge with strong multicollinearity (2 features)"
   ]
  },
  {
   "cell_type": "code",
   "execution_count": 2,
   "id": "d6d97c19",
   "metadata": {},
   "outputs": [
    {
     "name": "stdout",
     "output_type": "stream",
     "text": [
      "Best alpha: 0.0071968567300115215\n",
      "Coefficients: [ 4.41273599 -3.41175106]\n",
      "Intercept: 0.012383721734327238\n",
      "R² : 0.6538727524922596\n",
      "RMSE : 0.5705925764633385\n"
     ]
    }
   ],
   "source": [
    "d=pd.read_csv('ridge_correlated_150.csv')\n",
    "x=d[['x1','x2']]\n",
    "y=d['y']\n",
    "x_train,x_test,y_train,y_test=train_test_split(x,y,test_size=0.2,random_state=42)\n",
    "alphas = np.logspace(-3, 3, 50)\n",
    "ridge = RidgeCV(alphas=alphas)\n",
    "ridge.fit(x_train, y_train)\n",
    "y_pred = ridge.predict(x_test)\n",
    "print(\"Best alpha:\", ridge.alpha_)\n",
    "print(\"Coefficients:\", ridge.coef_)\n",
    "print(\"Intercept:\", ridge.intercept_)\n",
    "print(\"R² :\", r2_score(y_test, y_pred))\n",
    "print(\"RMSE :\", root_mean_squared_error(y_test, y_pred))\n"
   ]
  },
  {
   "cell_type": "markdown",
   "id": "350fbbcc",
   "metadata": {},
   "source": [
    "Ridge with 10 moderately collinear features"
   ]
  },
  {
   "cell_type": "code",
   "execution_count": 3,
   "id": "5f297bab",
   "metadata": {},
   "outputs": [
    {
     "name": "stdout",
     "output_type": "stream",
     "text": [
      "Best alpha: 0.655128556859551\n",
      "Coefficients: [ 2.30095156 -1.28258227  0.28615561  1.55443374 -0.18857766 -0.72907171\n",
      " -0.19564402  0.05193988  0.01304106  0.05181519]\n",
      "Intercept: -0.07437205435647587\n",
      "R² : 0.9881868768074025\n",
      "RMSE : 0.6057776327747615\n"
     ]
    }
   ],
   "source": [
    "a=pd.read_csv('ridge_10feat_150.csv')\n",
    "X = a.drop(columns=\"y\")\n",
    "y = a[\"y\"]\n",
    "X_train, X_test, y_train, y_test = train_test_split(X, y, test_size=0.2, random_state=42)\n",
    "alphas = np.logspace(-3, 3, 50)\n",
    "ridge = RidgeCV(alphas=alphas)\n",
    "ridge.fit(X_train, y_train)\n",
    "y_pred = ridge.predict(X_test)\n",
    "print(\"Best alpha:\", ridge.alpha_)\n",
    "print(\"Coefficients:\", ridge.coef_)\n",
    "print(\"Intercept:\", ridge.intercept_)\n",
    "print(\"R² :\", r2_score(y_test, y_pred))\n",
    "print(\"RMSE :\", root_mean_squared_error(y_test, y_pred))"
   ]
  },
  {
   "cell_type": "markdown",
   "id": "2ebb24a2",
   "metadata": {},
   "source": [
    "Lasso on high-dimensional sparse data (30 features)\n"
   ]
  },
  {
   "cell_type": "code",
   "execution_count": 4,
   "id": "a35ac566",
   "metadata": {},
   "outputs": [
    {
     "name": "stdout",
     "output_type": "stream",
     "text": [
      "Best alpha: 0.06662744526920758\n",
      "Selected features: ['x1', 'x2', 'x3', 'x4', 'x5', 'x6', 'x7', 'x8', 'x9', 'x11', 'x12', 'x13', 'x16', 'x18', 'x21', 'x23', 'x24', 'x26', 'x28', 'x29']\n",
      "Intercept: -0.07713865817077871\n",
      "R² : 0.9620885670252837\n",
      "RMSE : 1.186075160912456\n"
     ]
    }
   ],
   "source": [
    "b=pd.read_csv('lasso_sparse_150.csv')\n",
    "X = b.drop(columns=\"y\")\n",
    "y = b[\"y\"]\n",
    "X_train, X_test, y_train, y_test = train_test_split(X, y, test_size=0.2, random_state=42)\n",
    "lasso = LassoCV(cv=5, random_state=42)\n",
    "lasso.fit(X_train, y_train)\n",
    "y_pred = lasso.predict(X_test)\n",
    "selected = [col for col, coef in zip(X.columns, lasso.coef_) if coef != 0]\n",
    "print(\"Best alpha:\", lasso.alpha_)\n",
    "print(\"Selected features:\", selected)\n",
    "print(\"Intercept:\", lasso.intercept_)\n",
    "print(\"R² :\", r2_score(y_test, y_pred))\n",
    "print(\"RMSE :\", root_mean_squared_error(y_test, y_pred))"
   ]
  },
  {
   "cell_type": "markdown",
   "id": "bca25f4a",
   "metadata": {},
   "source": [
    "Lasso with grouped/overlapping signals"
   ]
  },
  {
   "cell_type": "code",
   "execution_count": 5,
   "id": "9dc69778",
   "metadata": {},
   "outputs": [
    {
     "name": "stdout",
     "output_type": "stream",
     "text": [
      "Best alpha: 0.003608591334120754\n",
      "Coefficients: [ 2.04028628 -0.          1.60923693  0.         -0.16289269]\n",
      "Intercept: -0.06746553791233204\n",
      "R² : 0.9139898313782668\n",
      "RMSE : 0.9098913642117108\n"
     ]
    }
   ],
   "source": [
    "c=pd.read_csv('lasso_groups_150.csv')\n",
    "X=c.drop(columns='y')\n",
    "y=c['y']\n",
    "X_train, X_test, y_train, y_test = train_test_split(X, y, test_size=0.2, random_state=42)\n",
    "lasso = LassoCV(cv=5, random_state=42)\n",
    "lasso.fit(X_train, y_train)\n",
    "y_pred = lasso.predict(X_test)\n",
    "print(\"Best alpha:\", lasso.alpha_)\n",
    "print(\"Coefficients:\", lasso.coef_)\n",
    "print(\"Intercept:\", lasso.intercept_)\n",
    "print(\"R² :\", r2_score(y_test, y_pred))\n",
    "print(\"RMSE :\", root_mean_squared_error(y_test, y_pred))"
   ]
  },
  {
   "cell_type": "markdown",
   "id": "7618e173",
   "metadata": {},
   "source": [
    "Quadratic model vs linear baseline"
   ]
  },
  {
   "cell_type": "code",
   "execution_count": 10,
   "id": "bc66c047",
   "metadata": {},
   "outputs": [
    {
     "name": "stdout",
     "output_type": "stream",
     "text": [
      "Linear R²: 0.8904817310737732\n",
      "Linear RMSE: 1.7497017806063875\n",
      "Polynomial coefficients: [ 3.04036622 -0.70463416]\n",
      "Polynomial intercept: 1.9542801042051434\n",
      "Polynomial R²: 0.975208521028767\n",
      "Polynomial RMSE: 0.832476469024934\n",
      "Prediction at x=1.5: [4.92940258]\n"
     ]
    },
    {
     "name": "stderr",
     "output_type": "stream",
     "text": [
      "c:\\Users\\boomi\\anaconda3\\envs\\pyai\\Lib\\site-packages\\sklearn\\utils\\validation.py:2749: UserWarning: X does not have valid feature names, but PolynomialFeatures was fitted with feature names\n",
      "  warnings.warn(\n"
     ]
    }
   ],
   "source": [
    "df=pd.read_csv('poly_quadratic_150.csv')\n",
    "X = df[[\"x\"]]\n",
    "y = df[\"y\"]\n",
    "X_train, X_test, y_train, y_test = train_test_split(X, y, test_size=0.2, random_state=42)\n",
    "#Linear Regression\n",
    "lin = LinearRegression()\n",
    "lin.fit(X_train, y_train)\n",
    "y_pred_lin = lin.predict(X_test)\n",
    "print(\"Linear R²:\", r2_score(y_test, y_pred_lin))\n",
    "print(\"Linear RMSE:\", root_mean_squared_error(y_test, y_pred_lin))\n",
    "# Polynomial (degree=2)\n",
    "poly = PolynomialFeatures(degree=2, include_bias=False)\n",
    "X_poly_train = poly.fit_transform(X_train)\n",
    "X_poly_test = poly.transform(X_test)\n",
    "\n",
    "poly_model = LinearRegression()\n",
    "poly_model.fit(X_poly_train, y_train)\n",
    "y_pred_poly = poly_model.predict(X_poly_test)\n",
    "\n",
    "print(\"Polynomial coefficients:\", poly_model.coef_)\n",
    "print(\"Polynomial intercept:\", poly_model.intercept_)\n",
    "print(\"Polynomial R²:\", r2_score(y_test, y_pred_poly))\n",
    "print(\"Polynomial RMSE:\", root_mean_squared_error(y_test, y_pred_poly))\n",
    "\n",
    "# Predict y at x = 1.5\n",
    "x_new = np.array([[1.5]])\n",
    "x_new_poly = poly.transform(x_new)\n",
    "print(\"Prediction at x=1.5:\", poly_model.predict(x_new_poly))"
   ]
  }
 ],
 "metadata": {
  "kernelspec": {
   "display_name": "pyai",
   "language": "python",
   "name": "python3"
  },
  "language_info": {
   "codemirror_mode": {
    "name": "ipython",
    "version": 3
   },
   "file_extension": ".py",
   "mimetype": "text/x-python",
   "name": "python",
   "nbconvert_exporter": "python",
   "pygments_lexer": "ipython3",
   "version": "3.12.11"
  }
 },
 "nbformat": 4,
 "nbformat_minor": 5
}
